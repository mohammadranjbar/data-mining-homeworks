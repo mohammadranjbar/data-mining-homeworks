{
 "cells": [
  {
   "cell_type": "code",
   "execution_count": null,
   "metadata": {
    "collapsed": true
   },
   "outputs": [],
   "source": [
    "import numpy as np\n",
    "import pandas as pd\n",
    "import statsmodels.api as sm\n",
    "import statsmodels.formula.api as smf\n",
    "df = pd.read_csv(\"./data/breastData.csv\", sep='\\s*,\\s*',\n",
    "                           header=0, encoding='ascii', engine='python')"
   ]
  },
  {
   "cell_type": "code",
   "execution_count": 120,
   "metadata": {},
   "outputs": [],
   "source": [
    "\n",
    "\n",
    "def regressionData(X,y):\n",
    "    X = sm.add_constant(X)\n",
    "    results = sm.OLS(y,X).fit()\n",
    "    return results.summary()\n",
    "    \n",
    "def saveAllLinearRegressions():\n",
    "    for x in range(1,len(df.columns.tolist())-1):\n",
    "        print(df.columns.tolist()[x])\n",
    "        X= df[df.columns.tolist()[x]]\n",
    "        y= df[\"class\"]\n",
    "        f = open(\"./results/\"+df.columns.tolist()[x]+\".txt\", \"w\")\n",
    "        f.write( str(regressionData(X, y)))\n",
    "\n",
    "\n",
    "def saveMultipleLinearRegressionForAllFeatures():\n",
    "    features = df.columns.tolist()\n",
    "    del features[10]\n",
    "    del features[0]\n",
    "    X= df[features]\n",
    "    y= df[\"class\"]\n",
    "    f = open(\"./results/allFeatures.txt\", \"w\")\n",
    "    f.write( str(regressionData(X, y)))"
   ]
  },
  {
   "cell_type": "code",
   "execution_count": 123,
   "metadata": {},
   "outputs": [
    {
     "name": "stdout",
     "output_type": "stream",
     "text": [
      "clumpThickness\n",
      "uniformityOfCellSize\n",
      "uniformityOfCellShape\n",
      "marginalAdhesion\n",
      "singleEpithelialCellSize\n",
      "bareNuclei\n",
      "blandChromatin\n",
      "normalNucleoli\n",
      "mitoses\n"
     ]
    }
   ],
   "source": [
    "saveAllLinearRegressions()"
   ]
  },
  {
   "cell_type": "code",
   "execution_count": null,
   "metadata": {
    "collapsed": true
   },
   "outputs": [],
   "source": []
  },
  {
   "cell_type": "code",
   "execution_count": null,
   "metadata": {
    "collapsed": true
   },
   "outputs": [],
   "source": []
  }
 ],
 "metadata": {
  "kernelspec": {
   "display_name": "Python 3",
   "language": "python",
   "name": "python3"
  },
  "language_info": {
   "codemirror_mode": {
    "name": "ipython",
    "version": 3
   },
   "file_extension": ".py",
   "mimetype": "text/x-python",
   "name": "python",
   "nbconvert_exporter": "python",
   "pygments_lexer": "ipython3",
   "version": "3.6.1"
  }
 },
 "nbformat": 4,
 "nbformat_minor": 2
}
