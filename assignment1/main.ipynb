{
 "cells": [
  {
   "cell_type": "code",
   "execution_count": null,
   "metadata": {},
   "outputs": [],
   "source": [
    "import numpy as np\n",
    "import pandas as pd\n",
    "import statsmodels.api as sm\n",
    "import statsmodels.formula.api as smf\n",
    "df = pd.read_csv(\"./data/breastData.csv\", sep='\\s*,\\s*',\n",
    "                           header=0, encoding='ascii', engine='python')"
   ]
  },
  {
   "cell_type": "code",
   "execution_count": 104,
   "metadata": {},
   "outputs": [
    {
     "ename": "IndentationError",
     "evalue": "expected an indented block (<ipython-input-104-f19a2f18b09d>, line 14)",
     "traceback": [
      "\u001b[0;36m  File \u001b[0;32m\"<ipython-input-104-f19a2f18b09d>\"\u001b[0;36m, line \u001b[0;32m14\u001b[0m\n\u001b[0;31m    print(df.columns.tolist()[x])\u001b[0m\n\u001b[0m        ^\u001b[0m\n\u001b[0;31mIndentationError\u001b[0m\u001b[0;31m:\u001b[0m expected an indented block\n"
     ],
     "output_type": "error"
    }
   ],
   "source": [
    "\n",
    "\n",
    "# X= np.array([df[\"sampleCodeNumber\"] ,df[\"class\"]])\n",
    "# y= np.array(df[\"class\"]).reshape(-1,1)\n",
    "\n",
    "\n",
    "def regressionData(X,y):\n",
    "    X = sm.add_constant(X)\n",
    "    results = sm.OLS(y,X).fit()\n",
    "    return results.summary()\n",
    "    \n",
    "def saveAllLinearRegressions():\n",
    "    for x in range(1,len(df.columns.tolist())-1):\n",
    "    print(df.columns.tolist()[x])\n",
    "    X= np.array(df[df.columns.tolist()[x]]).reshape(-1,1)\n",
    "    y= np.array(df[\"class\"]).reshape(-1,1)\n",
    "    f = open(\"./results/\"+df.columns.tolist()[x]+\".txt\", \"w\")\n",
    "    f.write( str(regressionData(X, y)))\n",
    "\n",
    "X= np.array(df[\"mitoses\"]).reshape(-1,1)\n",
    "y= np.array(df[\"class\"]).reshape(-1,1)    \n",
    "print(regressionData())"
   ]
  },
  {
   "cell_type": "code",
   "execution_count": null,
   "metadata": {
    "collapsed": true
   },
   "outputs": [],
   "source": []
  },
  {
   "cell_type": "code",
   "execution_count": null,
   "metadata": {
    "collapsed": true
   },
   "outputs": [],
   "source": []
  },
  {
   "cell_type": "code",
   "execution_count": null,
   "metadata": {
    "collapsed": true
   },
   "outputs": [],
   "source": []
  }
 ],
 "metadata": {
  "kernelspec": {
   "display_name": "Python 3",
   "language": "python",
   "name": "python3"
  },
  "language_info": {
   "codemirror_mode": {
    "name": "ipython",
    "version": 3
   },
   "file_extension": ".py",
   "mimetype": "text/x-python",
   "name": "python",
   "nbconvert_exporter": "python",
   "pygments_lexer": "ipython3",
   "version": "3.6.1"
  }
 },
 "nbformat": 4,
 "nbformat_minor": 2
}
