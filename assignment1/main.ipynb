{
 "cells": [
  {
   "cell_type": "code",
   "execution_count": null,
   "metadata": {
    "collapsed": true
   },
   "outputs": [],
   "source": [
    "import numpy as np\n",
    "import pandas as pd\n",
    "import statsmodels.api as sm\n",
    "import statsmodels.formula.api as smf\n",
    "df = pd.read_csv(\"./data/breastData.csv\", sep='\\s*,\\s*',\n",
    "                           header=0, encoding='ascii', engine='python')"
   ]
  },
  {
   "cell_type": "code",
   "execution_count": 111,
   "metadata": {},
   "outputs": [],
   "source": [
    "\n",
    "\n",
    "def regressionData(X,y):\n",
    "    X = sm.add_constant(X)\n",
    "    results = sm.OLS(y,X).fit()\n",
    "    return results.summary()\n",
    "    \n",
    "def saveAllLinearRegressions():\n",
    "    for x in range(1,len(df.columns.tolist())-1):\n",
    "        print(df.columns.tolist()[x])\n",
    "        X= df[df.columns.tolist()[x]]\n",
    "        y= df[\"class\"]\n",
    "        f = open(\"./results/\"+df.columns.tolist()[x]+\".txt\", \"w\")\n",
    "        f.write( str(regressionData(X, y)))\n",
    "\n"
   ]
  },
  {
   "cell_type": "code",
   "execution_count": 116,
   "metadata": {},
   "outputs": [
    {
     "name": "stdout",
     "output_type": "stream",
     "text": [
      "clumpThickness\n",
      "uniformityOfCellSize\n",
      "uniformityOfCellShape\n",
      "marginalAdhesion\n",
      "singleEpithelialCellSize\n",
      "bareNuclei\n",
      "blandChromatin\n",
      "normalNucleoli\n",
      "mitoses\n",
      "                            OLS Regression Results                            \n",
      "==============================================================================\n",
      "Dep. Variable:                  class   R-squared:                       0.734\n",
      "Model:                            OLS   Adj. R-squared:                  0.733\n",
      "Method:                 Least Squares   F-statistic:                     936.0\n",
      "Date:                Wed, 10 Oct 2018   Prob (F-statistic):          5.15e-196\n",
      "Time:                        20:17:13   Log-Likelihood:                -485.24\n",
      "No. Observations:                 683   AIC:                             976.5\n",
      "Df Residuals:                     680   BIC:                             990.1\n",
      "Df Model:                           2                                         \n",
      "Covariance Type:            nonrobust                                         \n",
      "========================================================================================\n",
      "                           coef    std err          t      P>|t|      [0.025      0.975]\n",
      "----------------------------------------------------------------------------------------\n",
      "const                    1.6158      0.035     45.845      0.000       1.547       1.685\n",
      "clumpThickness           0.1080      0.009     12.357      0.000       0.091       0.125\n",
      "uniformityOfCellSize     0.1918      0.008     23.836      0.000       0.176       0.208\n",
      "==============================================================================\n",
      "Omnibus:                       92.244   Durbin-Watson:                   1.794\n",
      "Prob(Omnibus):                  0.000   Jarque-Bera (JB):              165.679\n",
      "Skew:                           0.828   Prob(JB):                     1.06e-36\n",
      "Kurtosis:                       4.755   Cond. No.                         12.6\n",
      "==============================================================================\n",
      "\n",
      "Warnings:\n",
      "[1] Standard Errors assume that the covariance matrix of the errors is correctly specified.\n"
     ]
    }
   ],
   "source": [
    "# X= np.array(df[[df.columns.tolist()[x]]])\n",
    "saveAllLinearRegressions()\n",
    "X= df[[\"clumpThickness\",\"uniformityOfCellSize\"]]\n",
    "y= df[\"class\"]\n",
    "\n",
    "print(regressionData(X, y))\n",
    "        "
   ]
  },
  {
   "cell_type": "code",
   "execution_count": null,
   "metadata": {
    "collapsed": true
   },
   "outputs": [],
   "source": []
  },
  {
   "cell_type": "code",
   "execution_count": null,
   "metadata": {
    "collapsed": true
   },
   "outputs": [],
   "source": []
  }
 ],
 "metadata": {
  "kernelspec": {
   "display_name": "Python 3",
   "language": "python",
   "name": "python3"
  },
  "language_info": {
   "codemirror_mode": {
    "name": "ipython",
    "version": 3
   },
   "file_extension": ".py",
   "mimetype": "text/x-python",
   "name": "python",
   "nbconvert_exporter": "python",
   "pygments_lexer": "ipython3",
   "version": "3.6.1"
  }
 },
 "nbformat": 4,
 "nbformat_minor": 2
}
