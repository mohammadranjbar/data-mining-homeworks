{
 "cells": [
  {
   "cell_type": "code",
   "execution_count": 126,
   "metadata": {
    "collapsed": true
   },
   "outputs": [],
   "source": [
    "import pandas as pd\n",
    "import statsmodels.api as sm\n",
    "\n",
    "df = pd.read_csv(\"./data/breastData.csv\", sep='\\s*,\\s*',\n",
    "                 header=0, encoding='ascii', engine='python')\n",
    "\n",
    "\n",
    "def regression_data(X, y):\n",
    "    X = sm.add_constant(X)\n",
    "    results = sm.OLS(y, X).fit()\n",
    "    return results.summary()\n",
    "\n",
    "\n",
    "# Call this function to save the summary of all features regression with y and save the data in results folder\n",
    "def save_all_linear_regressions():\n",
    "    for x in range(1, len(df.columns.tolist()) - 1):\n",
    "        print(df.columns.tolist()[x])\n",
    "        X = df[df.columns.tolist()[x]]\n",
    "        y = df[\"class\"]\n",
    "        f = open(\"./results/\" + df.columns.tolist()[x] + \".txt\", \"w\")\n",
    "        f.write(str(regression_data(X, y)))\n",
    "\n",
    "\n",
    "# Call this function to save the summary of all features multipleRegression result in allFeatures.txt\n",
    "def save_multiple_linear_regression_for_all_features():\n",
    "    features = df.columns.tolist()\n",
    "    del features[10]\n",
    "    del features[0]\n",
    "    X = df[features]\n",
    "    y = df[\"class\"]\n",
    "    f = open(\"./results/allFeatures.txt\", \"w\")\n",
    "    f.write(str(regression_data(X, y)))\n",
    "    \n",
    "# Call this function to save the summary of significant features multipleRegression result in allFeatures.txt\n",
    "def save_multiple_linear_regression_for_all_significant_features():\n",
    "    features = [\"clumpThickness\",\"uniformityOfCellSize\",\"bareNuclei\",\"blandChromatin\",\n",
    "               \"normalNucleoli\",\"uniformityOfCellSize\"]\n",
    "    X = df[features]\n",
    "    y = df[\"class\"]\n",
    "    f = open(\"./results/allSignificantFeatures.txt\", \"w\")\n",
    "    f.write(str(regression_data(X, y)))\n",
    "        \n",
    "    \n"
   ]
  },
  {
   "cell_type": "code",
   "execution_count": 127,
   "metadata": {
    "collapsed": true
   },
   "outputs": [],
   "source": [
    "save_multiple_linear_regression_for_all_features()"
   ]
  },
  {
   "cell_type": "code",
   "execution_count": null,
   "metadata": {
    "collapsed": true
   },
   "outputs": [],
   "source": []
  }
 ],
 "metadata": {
  "kernelspec": {
   "display_name": "Python 3",
   "language": "python",
   "name": "python3"
  },
  "language_info": {
   "codemirror_mode": {
    "name": "ipython",
    "version": 3
   },
   "file_extension": ".py",
   "mimetype": "text/x-python",
   "name": "python",
   "nbconvert_exporter": "python",
   "pygments_lexer": "ipython3",
   "version": "3.6.1"
  }
 },
 "nbformat": 4,
 "nbformat_minor": 2
}
